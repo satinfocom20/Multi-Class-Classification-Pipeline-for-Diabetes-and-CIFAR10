{
 "cells": [
  {
   "cell_type": "markdown",
   "metadata": {},
   "source": [
    "# Classification Model"
   ]
  },
  {
   "cell_type": "markdown",
   "metadata": {},
   "source": [
    "# Dataset - CIFAR10"
   ]
  },
  {
   "cell_type": "markdown",
   "metadata": {},
   "source": [
    "DOWNLOAD DATA FROM [HERE](http://www.cs.toronto.edu/~kriz/cifar-10-python.tar.gz) AND PUT IT TO THE DATA FOLDER\n",
    "\n",
    "The [CIFAR-10](http://www.cs.toronto.edu/~kriz/cifar.html) dataset consists of 60000 32x32 colour images in 10 classes, with 6000 images per class. There are 50000 training images and 10000 test images.\n",
    "\n",
    "The classes are completely mutually exclusive. There is no overlap between automobiles and trucks. \"Automobile\" includes sedans, SUVs, things of that sort. \"Truck\" includes only big trucks. Neither includes pickup trucks. Such a situation is called **multiclass** classification in oppose to **multilabel** classification when each example may have multiple label.\n",
    "\n",
    "We can see the results [here](http://rodrigob.github.io/are_we_there_yet/build/classification_datasets_results.html)"
   ]
  },
  {
   "cell_type": "code",
   "execution_count": 1,
   "metadata": {
    "collapsed": true
   },
   "outputs": [],
   "source": [
    "import _pickle as cPickle\n",
    "import tarfile\n",
    "\n",
    "import numpy as np\n",
    "import pandas as pd\n",
    "\n",
    "from sklearn.linear_model import LogisticRegression\n",
    "from sklearn.model_selection import train_test_split\n",
    "from sklearn.metrics import accuracy_score\n",
    "\n",
    "import matplotlib\n",
    "import matplotlib.pyplot as plt\n",
    "import seaborn as sns\n",
    "\n",
    "%matplotlib inline"
   ]
  },
  {
   "cell_type": "markdown",
   "metadata": {},
   "source": [
    "Set style for plotting"
   ]
  },
  {
   "cell_type": "code",
   "execution_count": 2,
   "metadata": {
    "collapsed": true
   },
   "outputs": [],
   "source": [
    "sns.set(style=\"whitegrid\", font_scale=1.3)\n",
    "matplotlib.rcParams[\"legend.framealpha\"] = 1\n",
    "matplotlib.rcParams[\"legend.frameon\"] = True"
   ]
  },
  {
   "cell_type": "markdown",
   "metadata": {},
   "source": [
    "# Data"
   ]
  },
  {
   "cell_type": "markdown",
   "metadata": {},
   "source": [
    "Unarchive data"
   ]
  },
  {
   "cell_type": "code",
   "execution_count": 3,
   "metadata": {
    "scrolled": true
   },
   "outputs": [
    {
     "name": "stderr",
     "output_type": "stream",
     "text": [
      "'pwd' is not recognized as an internal or external command,\n",
      "operable program or batch file.\n"
     ]
    }
   ],
   "source": [
    "!pwd"
   ]
  },
  {
   "cell_type": "code",
   "execution_count": 4,
   "metadata": {
    "collapsed": true
   },
   "outputs": [],
   "source": [
    "tar = tarfile.open(\"data/cifar-10-python.tar.gz\", \"r:gz\")\n",
    "tar.extractall(\"data\")\n",
    "tar.close()"
   ]
  },
  {
   "cell_type": "markdown",
   "metadata": {},
   "source": [
    "## Reading"
   ]
  },
  {
   "cell_type": "markdown",
   "metadata": {},
   "source": [
    "Data are stored as a memory dump with python $\\text{dict}$ object. It was created using **pickle** function. To read one should \"unpickle\" it."
   ]
  },
  {
   "cell_type": "code",
   "execution_count": 5,
   "metadata": {
    "collapsed": true
   },
   "outputs": [],
   "source": [
    "def unpickle(file):\n",
    "    fo = open(file, 'rb')\n",
    "    dict = cPickle.load(fo, encoding=\"latin1\")\n",
    "    fo.close()\n",
    "    return dict"
   ]
  },
  {
   "cell_type": "markdown",
   "metadata": {},
   "source": [
    "Data are also splitted in to 5 pieces for conveniece. Let's read them all and concatenate"
   ]
  },
  {
   "cell_type": "code",
   "execution_count": 54,
   "metadata": {
    "collapsed": true
   },
   "outputs": [],
   "source": [
    "for b in range(1, 6):\n",
    "    data_batch = unpickle(\"data/cifar-10-batches-py/data_batch_\" + str(b))\n",
    "    if b == 1:\n",
    "        X_train = data_batch[\"data\"]\n",
    "        y_train = np.array(data_batch[\"labels\"])\n",
    "    else:\n",
    "        X_train = np.append(X_train, data_batch[\"data\"], axis=0)\n",
    "        y_train = np.append(y_train, data_batch[\"labels\"], axis=0)"
   ]
  },
  {
   "cell_type": "markdown",
   "metadata": {},
   "source": [
    "Read test data. In this dataset train/test split is provided by authors of the dataset to be able to consistently evaluate solutions"
   ]
  },
  {
   "cell_type": "code",
   "execution_count": 55,
   "metadata": {
    "collapsed": true
   },
   "outputs": [],
   "source": [
    "data_batch = unpickle(\"data/cifar-10-batches-py/test_batch\")\n",
    "X_test = data_batch[\"data\"]\n",
    "y_test = np.array(data_batch[\"labels\"])"
   ]
  },
  {
   "cell_type": "markdown",
   "metadata": {},
   "source": [
    "Read meta-information file with the names of the classes"
   ]
  },
  {
   "cell_type": "code",
   "execution_count": 56,
   "metadata": {
    "collapsed": true
   },
   "outputs": [],
   "source": [
    "classes = unpickle(\"data/cifar-10-batches-py/batches.meta\")[\"label_names\"]"
   ]
  },
  {
   "cell_type": "markdown",
   "metadata": {},
   "source": [
    "## Pre-processing"
   ]
  },
  {
   "cell_type": "markdown",
   "metadata": {},
   "source": [
    "We have too many data"
   ]
  },
  {
   "cell_type": "code",
   "execution_count": 85,
   "metadata": {},
   "outputs": [
    {
     "name": "stdout",
     "output_type": "stream",
     "text": [
      "Train size: (5000, 3072)\n",
      "Test size: (1000, 3072)\n"
     ]
    }
   ],
   "source": [
    "print(\"Train size:\", X_train.shape)\n",
    "print(\"Test size:\", X_test.shape)"
   ]
  },
  {
   "cell_type": "markdown",
   "metadata": {},
   "source": [
    "Let's take only 10% of them to train faster"
   ]
  },
  {
   "cell_type": "code",
   "execution_count": 58,
   "metadata": {
    "collapsed": true
   },
   "outputs": [],
   "source": [
    "subsample_rate = 0.1"
   ]
  },
  {
   "cell_type": "markdown",
   "metadata": {},
   "source": [
    "We want to preserve the same quantity ratio between classes. In python such an option is called **stratification**. Let's randomly (with fixed initial seed for the sake of reproducibility) divide part of train data"
   ]
  },
  {
   "cell_type": "code",
   "execution_count": 59,
   "metadata": {
    "collapsed": true
   },
   "outputs": [],
   "source": [
    "X_train, _, y_train, _ = train_test_split(X_train, y_train, stratify=y_train, train_size=subsample_rate, random_state=42)"
   ]
  },
  {
   "cell_type": "markdown",
   "metadata": {},
   "source": [
    "The same for test"
   ]
  },
  {
   "cell_type": "code",
   "execution_count": 60,
   "metadata": {
    "collapsed": true
   },
   "outputs": [],
   "source": [
    "X_test, _, y_test, _ = train_test_split(X_test, y_test, stratify=y_test, train_size=subsample_rate, random_state=42)"
   ]
  },
  {
   "cell_type": "markdown",
   "metadata": {},
   "source": [
    "Indeed, we preserved the number of objects of each class"
   ]
  },
  {
   "cell_type": "code",
   "execution_count": 17,
   "metadata": {},
   "outputs": [
    {
     "data": {
      "text/plain": [
       "[('airplane', 50),\n",
       " ('automobile', 50),\n",
       " ('bird', 50),\n",
       " ('cat', 50),\n",
       " ('deer', 50),\n",
       " ('dog', 50),\n",
       " ('frog', 50),\n",
       " ('horse', 50),\n",
       " ('ship', 50),\n",
       " ('truck', 50)]"
      ]
     },
     "execution_count": 17,
     "metadata": {},
     "output_type": "execute_result"
    }
   ],
   "source": [
    "unique_train = np.unique(y_train, return_counts=True)\n",
    "list(zip(np.array(classes)[unique_train[0]], unique_train[1]))"
   ]
  },
  {
   "cell_type": "markdown",
   "metadata": {},
   "source": [
    "## Visualization"
   ]
  },
  {
   "cell_type": "markdown",
   "metadata": {},
   "source": [
    "For now each object has the following shape"
   ]
  },
  {
   "cell_type": "code",
   "execution_count": 107,
   "metadata": {},
   "outputs": [
    {
     "data": {
      "text/plain": [
       "(3072,)"
      ]
     },
     "execution_count": 107,
     "metadata": {},
     "output_type": "execute_result"
    }
   ],
   "source": [
    "X_train[0].shape"
   ]
  },
  {
   "cell_type": "markdown",
   "metadata": {},
   "source": [
    "$3072 = 32 \\times 32 \\times 3$ where $32 \\times 32$ is the size of the image in pixels and $3$ is the number of channels (RGB)\n",
    "\n",
    "To show this array as an image let's reshape it in the needed from with the shape $(32, 32, 1)$"
   ]
  },
  {
   "cell_type": "code",
   "execution_count": 108,
   "metadata": {
    "collapsed": true
   },
   "outputs": [],
   "source": [
    "def show_pic(x):\n",
    "    plt.imshow(x.reshape((3, 32, 32)).transpose(1, 2, 0).astype(\"uint8\"))\n",
    "    plt.axis(\"off\")"
   ]
  },
  {
   "cell_type": "markdown",
   "metadata": {},
   "source": [
    "Draw one pic from each class"
   ]
  },
  {
   "cell_type": "code",
   "execution_count": 109,
   "metadata": {
    "collapsed": true
   },
   "outputs": [],
   "source": [
    "classes_idx_examples = np.zeros(10, dtype=np.int)\n",
    "for i in range(10):\n",
    "    classes_idx_examples[i] = np.where(y_train == i)[0][0]"
   ]
  },
  {
   "cell_type": "code",
   "execution_count": 110,
   "metadata": {},
   "outputs": [
    {
     "data": {
      "image/png": "[encoded data removed]",
      "text/plain": [
       "<matplotlib.figure.Figure at 0x254a18a2908>"
      ]
     },
     "metadata": {},
     "output_type": "display_data"
    }
   ],
   "source": [
    "plt.figure(figsize=(12, 5))\n",
    "for i in range(10):\n",
    "    plt.subplot(2, 5, i + 1)\n",
    "    show_pic(X_train[classes_idx_examples[i]])\n",
    "    plt.title(classes[i])"
   ]
  },
  {
   "cell_type": "markdown",
   "metadata": {},
   "source": [
    "# Sklearn Logistic Regression"
   ]
  },
  {
   "cell_type": "markdown",
   "metadata": {},
   "source": [
    "Let's use Sklearn implementation of algorithms to have a benchmark.\n",
    "\n",
    "Also one should **always** track the results of the experiments to be able to compare different approaches. Let's create pandas $\\text{DataFrame}$ for this purpose."
   ]
  },
  {
   "cell_type": "code",
   "execution_count": 111,
   "metadata": {
    "collapsed": true
   },
   "outputs": [],
   "source": [
    "results = pd.DataFrame(columns=[\"Model\", \"Test Accuracy\"])"
   ]
  },
  {
   "cell_type": "markdown",
   "metadata": {},
   "source": [
    "For now it is empty, but will be filled in later"
   ]
  },
  {
   "cell_type": "code",
   "execution_count": 112,
   "metadata": {},
   "outputs": [
    {
     "data": {
      "text/html": [
       "<div>\n",
       "<style>\n",
       "    .dataframe thead tr:only-child th {\n",
       "        text-align: right;\n",
       "    }\n",
       "\n",
       "    .dataframe thead th {\n",
       "        text-align: left;\n",
       "    }\n",
       "\n",
       "    .dataframe tbody tr th {\n",
       "        vertical-align: top;\n",
       "    }\n",
       "</style>\n",
       "<table border=\"1\" class=\"dataframe\">\n",
       "  <thead>\n",
       "    <tr style=\"text-align: right;\">\n",
       "      <th></th>\n",
       "      <th>Model</th>\n",
       "      <th>Test Accuracy</th>\n",
       "    </tr>\n",
       "  </thead>\n",
       "  <tbody>\n",
       "  </tbody>\n",
       "</table>\n",
       "</div>"
      ],
      "text/plain": [
       "Empty DataFrame\n",
       "Columns: [Model, Test Accuracy]\n",
       "Index: []"
      ]
     },
     "execution_count": 112,
     "metadata": {},
     "output_type": "execute_result"
    }
   ],
   "source": [
    "results"
   ]
  },
  {
   "cell_type": "markdown",
   "metadata": {},
   "source": [
    "## Defining model"
   ]
  },
  {
   "cell_type": "markdown",
   "metadata": {},
   "source": [
    "Let's try Multinomial Logistic Regression (see theory in lectures)\n",
    "Sklearn implementation of LogRegression implies mandatory usage of regularization (it almost always works better with it preventing overfitting). We want to explore very basic LogRegression model thus to \"disable\" regularization we need to reduce its impact to almost zero. It can be done by setting regularization constant $\\lambda$ to very small value (in sklearn we define inverse regularization constant $C = 1 / \\lambda$ thus we need to make it big)\n",
    "\n",
    "Here we use Sklearn $\\text{LogisticRegression}$ with few options:\n",
    "* $\\text{multi_class} = \\text{\"multinomial\"} -$we want to build softmax classifier (there are other ways of dealing with multiclass setting for Logistic Regression)\n",
    "* $\\text{C} = 10^6-$ for now we don't want to use regularization; $\\text{C}$ is the inverse regularization constant which is $\\text{C} = \\frac{1}{\\lambda}$; thus we should make $\\text{C}$ big to turn off regulazrization\n",
    "* $\\text{solver} = \\text{sag} -$ optimization algorithm to use; Stochastic Average Gradient. Stochastic Gradient Descent method gitters massively. This is due to the not very good approximation of gradient (only by one example). To neglect this error one can simply average gradient across last few steps; that is exectly what $\\text{sag}$ does\n",
    "* $\\text{max_iter} = 15 -$ the number of passes over the training data (aka epochs)"
   ]
  },
  {
   "cell_type": "code",
   "execution_count": 113,
   "metadata": {
    "collapsed": true
   },
   "outputs": [],
   "source": [
    "model_lr_sklearn = LogisticRegression(multi_class=\"multinomial\", C=1e6, solver=\"sag\", max_iter=15)"
   ]
  },
  {
   "cell_type": "markdown",
   "metadata": {},
   "source": [
    "### Fitting"
   ]
  },
  {
   "cell_type": "code",
   "execution_count": 114,
   "metadata": {},
   "outputs": [
    {
     "name": "stderr",
     "output_type": "stream",
     "text": [
      "C:\\Users\\Devi\\Anaconda3\\lib\\site-packages\\sklearn\\linear_model\\sag.py:286: ConvergenceWarning: The max_iter was reached which means the coef_ did not converge\n",
      "  \"the coef_ did not converge\", ConvergenceWarning)\n"
     ]
    },
    {
     "data": {
      "text/plain": [
       "LogisticRegression(C=1000000.0, class_weight=None, dual=False,\n",
       "          fit_intercept=True, intercept_scaling=1, max_iter=15,\n",
       "          multi_class='multinomial', n_jobs=1, penalty='l2',\n",
       "          random_state=None, solver='sag', tol=0.0001, verbose=0,\n",
       "          warm_start=False)"
      ]
     },
     "execution_count": 114,
     "metadata": {},
     "output_type": "execute_result"
    }
   ],
   "source": [
    "model_lr_sklearn.fit(X_train, y_train)"
   ]
  },
  {
   "cell_type": "markdown",
   "metadata": {},
   "source": [
    "### Evaluation"
   ]
  },
  {
   "cell_type": "markdown",
   "metadata": {},
   "source": [
    "Prediction"
   ]
  },
  {
   "cell_type": "code",
   "execution_count": 115,
   "metadata": {
    "collapsed": true
   },
   "outputs": [],
   "source": [
    "y_pred_test = model_lr_sklearn.predict(X_test)"
   ]
  },
  {
   "cell_type": "markdown",
   "metadata": {},
   "source": [
    "Accuracy"
   ]
  },
  {
   "cell_type": "code",
   "execution_count": 116,
   "metadata": {
    "collapsed": true
   },
   "outputs": [],
   "source": [
    "acc = accuracy_score(y_test, y_pred_test)"
   ]
  },
  {
   "cell_type": "markdown",
   "metadata": {},
   "source": [
    "Keeping table of results up-to-date"
   ]
  },
  {
   "cell_type": "code",
   "execution_count": 117,
   "metadata": {},
   "outputs": [
    {
     "data": {
      "text/html": [
       "<div>\n",
       "<style>\n",
       "    .dataframe thead tr:only-child th {\n",
       "        text-align: right;\n",
       "    }\n",
       "\n",
       "    .dataframe thead th {\n",
       "        text-align: left;\n",
       "    }\n",
       "\n",
       "    .dataframe tbody tr th {\n",
       "        vertical-align: top;\n",
       "    }\n",
       "</style>\n",
       "<table border=\"1\" class=\"dataframe\">\n",
       "  <thead>\n",
       "    <tr style=\"text-align: right;\">\n",
       "      <th></th>\n",
       "      <th>Model</th>\n",
       "      <th>Test Accuracy</th>\n",
       "    </tr>\n",
       "  </thead>\n",
       "  <tbody>\n",
       "    <tr>\n",
       "      <th>0</th>\n",
       "      <td>LR Sklearn</td>\n",
       "      <td>0.357</td>\n",
       "    </tr>\n",
       "  </tbody>\n",
       "</table>\n",
       "</div>"
      ],
      "text/plain": [
       "        Model  Test Accuracy\n",
       "0  LR Sklearn          0.357"
      ]
     },
     "execution_count": 117,
     "metadata": {},
     "output_type": "execute_result"
    }
   ],
   "source": [
    "results.loc[len(results)] = [\"LR Sklearn\", np.round(acc, 3)]\n",
    "results"
   ]
  },
  {
   "cell_type": "markdown",
   "metadata": {},
   "source": [
    "Keeping table of results up-to-date"
   ]
  },
  {
   "cell_type": "markdown",
   "metadata": {},
   "source": [
    "# Dataset - Pima Diabetest - The Great Race\n",
    "\n",
    "## BG: Part 1: Pima Diabetes classification\n",
    "\n",
    "It is important to compare the performance of multiple different machine learning algorithms\n",
    "consistently. We can use this test harness as a template on our own machine learning problems and add more and different\n",
    "algorithms to compare. \n",
    "\n",
    "Activities to accompolish:\n",
    "1. How to formulate an experiment to directly compare machine learning algorithms.\n",
    "2. A reusable template for evaluating the performance of multiple algorithms on one dataset.\n",
    "3. How to report and visualize the results when comparing algorithm performance.\n",
    "\n",
    "In the example below six different classification\n",
    "algorithms are compared on a single dataset:\n",
    "\n",
    "*  Logistic Regression\n",
    "*  Linear Discriminant Analysis\n",
    "*  k-Nearest Neighbors\n",
    "*  Classification and Regression Trees\n",
    "*  Naive Bayes\n",
    "*  Support Vector Machines.\n",
    "\n",
    "The dataset is the Pima Indians onset of diabetes problem. The problem has two classes and\n",
    "eight numeric input variables of varying scales. The 10-fold cross-validation procedure is used to\n",
    "evaluate each algorithm, importantly configured with the same random seed to ensure that the\n",
    "same splits to the training data are performed and that each algorithm is evaluated in precisely\n",
    "the same way. Each algorithm is given a short name, useful for summarizing results afterward."
   ]
  },
  {
   "cell_type": "markdown",
   "metadata": {},
   "source": [
    "### Cross-Validation"
   ]
  },
  {
   "cell_type": "markdown",
   "metadata": {},
   "source": [
    "The common method to evaluate the model is cross-validation. The idea behind it is to divide the whole set of objects into $k$ sections and then use one section as a test set and other $k-1$ as a train (repeat it with all the sections).\n",
    "\n",
    "There is a special function for this in sklearn called $\\text{KFold}$. It creates set of indices for cross-validation."
   ]
  },
  {
   "cell_type": "code",
   "execution_count": 67,
   "metadata": {
    "collapsed": true
   },
   "outputs": [],
   "source": [
    "#e.g., \n",
    "from sklearn.model_selection import KFold\n",
    "cv = KFold(n_splits=5, shuffle=True, random_state=42)"
   ]
  },
  {
   "cell_type": "markdown",
   "metadata": {},
   "source": [
    "Next step is to do everything that we've done before in a loop:\n",
    "* Split\n",
    "* Train\n",
    "* Evaluate\n",
    "\n",
    "And store the average value of the accuracy. Running the code below provides a list of each \"algorithm short name\", the mean accuracy and the standard deviation accuracy."
   ]
  },
  {
   "cell_type": "code",
   "execution_count": 68,
   "metadata": {},
   "outputs": [
    {
     "name": "stdout",
     "output_type": "stream",
     "text": [
      "LR: 0.769515 (0.048411)\n",
      "LDA: 0.773462 (0.051592)\n",
      "KNN: 0.726555 (0.061821)\n",
      "CART: 0.684774 (0.065611)\n",
      "NB: 0.755178 (0.042766)\n",
      "SVM: 0.651025 (0.072141)\n"
     ]
    },
    {
     "data": {
      "image/png": "[encoded data removed]",
      "text/plain": [
       "<matplotlib.figure.Figure at 0x254a04dca20>"
      ]
     },
     "metadata": {},
     "output_type": "display_data"
    }
   ],
   "source": [
    "# Compare Algorithms\n",
    "from pandas import read_csv\n",
    "from matplotlib import pyplot\n",
    "from sklearn.model_selection import KFold\n",
    "from sklearn.model_selection import cross_val_score\n",
    "from sklearn.linear_model import LogisticRegression\n",
    "from sklearn.tree import DecisionTreeClassifier\n",
    "from sklearn.neighbors import KNeighborsClassifier\n",
    "from sklearn.discriminant_analysis import LinearDiscriminantAnalysis\n",
    "from sklearn.naive_bayes import GaussianNB\n",
    "from sklearn.svm import SVC\n",
    "# load dataset\n",
    "filename = 'pima-indians-diabetes.data.csv'\n",
    "names = ['preg', 'plas', 'pres', 'skin', 'test', 'mass', 'pedi', 'age', 'class']\n",
    "dataframe = read_csv(filename, names=names)\n",
    "array = dataframe.values\n",
    "X = array[:,0:8]\n",
    "Y = array[:,8]\n",
    "# prepare models\n",
    "models = []\n",
    "models.append(('LR', LogisticRegression()))\n",
    "models.append(('LDA', LinearDiscriminantAnalysis()))\n",
    "models.append(('KNN', KNeighborsClassifier()))\n",
    "models.append(('CART', DecisionTreeClassifier()))\n",
    "models.append(('NB', GaussianNB()))\n",
    "models.append(('SVM', SVC()))\n",
    "# evaluate each model in turn\n",
    "results = []\n",
    "names = []\n",
    "scoring = 'accuracy'\n",
    "for name, model in models:\n",
    "    kfold = KFold(n_splits=10, random_state=7)\n",
    "    cv_results = cross_val_score(model, X, Y, cv=kfold, scoring=scoring)\n",
    "    results.append(cv_results)\n",
    "    names.append(name)\n",
    "    msg = \"%s: %f (%f)\" % (name, cv_results.mean(), cv_results.std())\n",
    "    print(msg)\n",
    "# boxplot algorithm comparison\n",
    "fig = pyplot.figure()\n",
    "fig.suptitle('Classification Algorithm Comparison')\n",
    "ax = fig.add_subplot(111)\n",
    "pyplot.boxplot(results)\n",
    "ax.set_xticklabels(names)\n",
    "pyplot.grid()\n",
    "pyplot.show()\n"
   ]
  },
  {
   "cell_type": "markdown",
   "metadata": {},
   "source": [
    "Above we produced a box and whisker plot showing the spread of the accuracy scores\n",
    "across each cross-validation fold for each algorithm.\n",
    "\n",
    "From these results, it would suggest that both logistic regression and linear discriminant\n",
    "analysis are perhaps worthy of further study on this problem."
   ]
  },
  {
   "cell_type": "markdown",
   "metadata": {},
   "source": [
    "## CIFAR10 Great Race \n",
    "Repeat the above RACE for the CIFAR10 dataset and draw some conclusions"
   ]
  },
  {
   "cell_type": "code",
   "execution_count": 118,
   "metadata": {},
   "outputs": [
    {
     "name": "stdout",
     "output_type": "stream",
     "text": [
      "LR: 0.224000 (0.016273)\n"
     ]
    },
    {
     "name": "stderr",
     "output_type": "stream",
     "text": [
      "C:\\Users\\Devi\\Anaconda3\\lib\\site-packages\\sklearn\\discriminant_analysis.py:455: UserWarning: The priors do not sum to 1. Renormalizing\n",
      "  UserWarning)\n",
      "C:\\Users\\Devi\\Anaconda3\\lib\\site-packages\\sklearn\\discriminant_analysis.py:455: UserWarning: The priors do not sum to 1. Renormalizing\n",
      "  UserWarning)\n",
      "C:\\Users\\Devi\\Anaconda3\\lib\\site-packages\\sklearn\\discriminant_analysis.py:455: UserWarning: The priors do not sum to 1. Renormalizing\n",
      "  UserWarning)\n"
     ]
    },
    {
     "name": "stdout",
     "output_type": "stream",
     "text": [
      "LDA: 0.176200 (0.016086)\n",
      "KNN: 0.274600 (0.011526)\n",
      "CART: 0.216800 (0.020673)\n",
      "NB: 0.293200 (0.019904)\n",
      "SVM: 0.079200 (0.006145)\n"
     ]
    },
    {
     "data": {
      "image/png": "[encoded data removed]",
      "text/plain": [
       "<matplotlib.figure.Figure at 0x254a1fe5a90>"
      ]
     },
     "metadata": {},
     "output_type": "display_data"
    }
   ],
   "source": [
    "# New code to cross validate different alogrithms using CIFAR10 dataset\n",
    "from pandas import read_csv\n",
    "from matplotlib import pyplot\n",
    "from sklearn.model_selection import KFold\n",
    "from sklearn.model_selection import cross_val_score\n",
    "from sklearn.linear_model import LogisticRegression\n",
    "from sklearn.tree import DecisionTreeClassifier\n",
    "from sklearn.neighbors import KNeighborsClassifier\n",
    "from sklearn.discriminant_analysis import LinearDiscriminantAnalysis\n",
    "from sklearn.naive_bayes import GaussianNB\n",
    "from sklearn.svm import SVC\n",
    "# load dataset\n",
    "#filename = 'pima-indians-diabetes.data.csv'\n",
    "#names = ['preg', 'plas', 'pres', 'skin', 'test', 'mass', 'pedi', 'age', 'class']\n",
    "#dataframe = read_csv(filename, names=names)\n",
    "#array = dataframe.values\n",
    "#X = array[:,0:8]\n",
    "#Y = array[:,8]\n",
    "# prepare models\n",
    "models = []\n",
    "models.append(('LR', LogisticRegression()))\n",
    "models.append(('LDA', LinearDiscriminantAnalysis()))\n",
    "models.append(('KNN', KNeighborsClassifier()))\n",
    "models.append(('CART', DecisionTreeClassifier()))\n",
    "models.append(('NB', GaussianNB()))\n",
    "models.append(('SVM', SVC()))\n",
    "# evaluate each model in turn\n",
    "results = []\n",
    "names = []\n",
    "scoring = 'accuracy'\n",
    "for name, model in models:\n",
    "    kfold = KFold(n_splits=10, random_state=7)\n",
    "    cv_results = cross_val_score(model, X_train, y_train, cv=kfold, scoring=scoring)\n",
    "    results.append(cv_results)\n",
    "    names.append(name)\n",
    "    msg = \"%s: %f (%f)\" % (name, cv_results.mean(), cv_results.std())\n",
    "    print(msg)\n",
    "# boxplot algorithm comparison\n",
    "fig = pyplot.figure()\n",
    "fig.suptitle('Classification Algorithm Comparison')\n",
    "ax = fig.add_subplot(111)\n",
    "pyplot.boxplot(results)\n",
    "ax.set_xticklabels(names)\n",
    "pyplot.grid()\n",
    "pyplot.show()"
   ]
  },
  {
   "cell_type": "markdown",
   "metadata": {},
   "source": [
    "# Background: HyperParameter tuning on steroids\n",
    "\n",
    "Machine learning models are parameterized so that their behavior can be tuned for a given problem. Models can have many parameters and finding the best combination of parameters can be treated as a search problem. In this section you will discover how to tune the parameters of machine learning algorithms in Python using the scikit-learn.\n",
    "\n",
    "Grid search is an approach to parameter tuning that will methodically build and evaluate a model for each combination of algorithm parameters specified in a grid. You can perform a grid search using the GridSearchCV class1. \n",
    "In this section we will focus on setting up a pipeline for text classifiction, though it can be adapted to any machine learning problem."
   ]
  },
  {
   "cell_type": "markdown",
   "metadata": {},
   "source": [
    "## Pima Indian Grid search\n",
    "The example below evaluates different alpha values for the Ridge Regression/LASSO algorithm on the Pima Diabetes binary classifiction data. This is a one-dimensional grid search.\n"
   ]
  },
  {
   "cell_type": "code",
   "execution_count": 70,
   "metadata": {},
   "outputs": [
    {
     "name": "stdout",
     "output_type": "stream",
     "text": [
      "0.279617559313\n",
      "1.0\n"
     ]
    }
   ],
   "source": [
    "# Grid Search for Algorithm Tuning\n",
    "import numpy\n",
    "from pandas import read_csv\n",
    "from sklearn.linear_model import Ridge\n",
    "from sklearn.model_selection import GridSearchCV\n",
    "filename = 'pima-indians-diabetes.data.csv'\n",
    "names = ['preg', 'plas', 'pres', 'skin', 'test', 'mass', 'pedi', 'age', 'class']\n",
    "dataframe = read_csv(filename, names=names)\n",
    "array = dataframe.values\n",
    "X = array[:,0:8]\n",
    "Y = array[:,8]\n",
    "alphas = numpy.array([1,0.1,0.01,0.001,0.0001,0])\n",
    "param_grid = dict(alpha=alphas)\n",
    "model = Ridge()\n",
    "grid = GridSearchCV(estimator=model, param_grid=param_grid)\n",
    "grid.fit(X, Y)\n",
    "print(grid.best_score_)\n",
    "print(grid.best_estimator_.alpha)"
   ]
  },
  {
   "cell_type": "markdown",
   "metadata": {},
   "source": [
    "# Explore LASSO Logistic Regression On CIFAR-10 dataset\n",
    "Model the CIFAR-10 dataset using LASSO Logistic Regression (l1 penalty term). Explore different values $\\text{C}$ is the inverse regularization constant which is $\\text{C} = \\frac{1}{\\lambda}$ that are listed here : {C=1.0, C=10.0, C=100.0, C=1000.0, C=10000.0}\n",
    "\n",
    "We will add the reports of our experimental results using the `results` table. Add one more column for reporting the number of zero coefficients after training. Recall, LASSO Logistic Regression can be useful in doing feature selection!   \n",
    "\n",
    "NOTE: the coefficient of the learnt model, `model_lr_sklearn`, are available via `model_lr_sklearn.coef_`\n",
    "\n",
    "`coef_ : array, shape (1, n_features) or (n_classes, n_features)\n",
    "\n",
    "Coefficient of the features in the decision function.\n",
    "\n",
    "coef_ is of shape (1, n_features) when the given problem is binary.`\n",
    "\n",
    " "
   ]
  },
  {
   "cell_type": "code",
   "execution_count": 62,
   "metadata": {},
   "outputs": [
    {
     "name": "stdout",
     "output_type": "stream",
     "text": [
      "Fitting & Predicting for C= 1.0\n",
      "Fitted in 4981.425s\n",
      "Predicted in 0.041s\n",
      "--------------------------\n",
      "Fitting & Predicting for C= 10.0\n",
      "Fitted in 4643.303s\n",
      "Predicted in 0.143s\n",
      "--------------------------\n",
      "Fitting & Predicting for C= 100.0\n",
      "Fitted in 4555.419s\n",
      "Predicted in 0.114s\n",
      "--------------------------\n",
      "Fitting & Predicting for C= 1000.0\n",
      "Fitted in 4537.175s\n",
      "Predicted in 0.063s\n",
      "--------------------------\n",
      "Fitting & Predicting for C= 10000.0\n",
      "Fitted in 5134.019s\n",
      "Predicted in 0.036s\n",
      "--------------------------\n",
      "     Model Description  Value of C  Test Accuracy  #of Zero Coefficients(Avg)\n",
      "0  LR Sklearn real run         1.0          0.240                    0.064551\n",
      "1  LR Sklearn real run        10.0          0.240                    0.000065\n",
      "2  LR Sklearn real run       100.0          0.236                    0.000000\n",
      "3  LR Sklearn real run      1000.0          0.237                    0.000000\n",
      "4  LR Sklearn real run     10000.0          0.237                    0.000000\n"
     ]
    }
   ],
   "source": [
    "#************* LASSO Logistic Regression for different C values*******************************\n",
    "# Logistic Regression\n",
    "from sklearn import datasets\n",
    "from sklearn import metrics\n",
    "from sklearn.linear_model import LogisticRegression\n",
    "from sklearn.model_selection import GridSearchCV\n",
    "import numpy as np\n",
    "import pandas as pd\n",
    "from time import time\n",
    "\n",
    "results = pd.DataFrame(columns=[\"Model Description\", \"Value of C\", \"Test Accuracy\", \"#of Zero Coefficients(Avg)\"])\n",
    "\n",
    "C = [1.0, 10.0, 100.0, 1000.0, 10000.0]\n",
    "\n",
    "for c in C:\n",
    "    logreg = LogisticRegression(penalty=\"l1\", C=c)\n",
    "    t = time()\n",
    "    print('Fitting & Predicting for C=', c)\n",
    "    logreg.fit(X_train, y_train)\n",
    "    print(\"Fitted in %0.3fs\" % (time() - t))\n",
    "    \n",
    "    t1 = time()\n",
    "    predicted = logreg.predict(X_test)\n",
    "    print(\"Predicted in %0.3fs\" % (time() - t1))\n",
    "    print(\"--------------------------\")   \n",
    "    \n",
    "    #calculate average of zero coefficients for all 10 classes\n",
    "    n = logreg.coef_.shape[0] * logreg.coef_.shape[1]\n",
    "    zerocoeff = n - len(np.flatnonzero(logreg.coef_))\n",
    "    avgzerocoeff = zerocoeff / n\n",
    "    \n",
    "    #calculate accuracy\n",
    "    acc_c = np.round(accuracy_score(y_test, predicted), 3)\n",
    "    \n",
    "    results.loc[len(results)] = [\"LR Sklearn real run\", c, acc_c, avgzerocoeff]\n",
    "print(results)"
   ]
  },
  {
   "cell_type": "code",
   "execution_count": 138,
   "metadata": {},
   "outputs": [
    {
     "data": {
      "text/html": [
       "<div>\n",
       "<style>\n",
       "    .dataframe thead tr:only-child th {\n",
       "        text-align: right;\n",
       "    }\n",
       "\n",
       "    .dataframe thead th {\n",
       "        text-align: left;\n",
       "    }\n",
       "\n",
       "    .dataframe tbody tr th {\n",
       "        vertical-align: top;\n",
       "    }\n",
       "</style>\n",
       "<table border=\"1\" class=\"dataframe\">\n",
       "  <thead>\n",
       "    <tr style=\"text-align: right;\">\n",
       "      <th></th>\n",
       "      <th>Model Description</th>\n",
       "      <th>Test Accuracy</th>\n",
       "      <th>#of Zero Coefficients</th>\n",
       "    </tr>\n",
       "  </thead>\n",
       "  <tbody>\n",
       "    <tr>\n",
       "      <th>0</th>\n",
       "      <td>LR Sklearn fake run</td>\n",
       "      <td>0.363</td>\n",
       "      <td>1,000</td>\n",
       "    </tr>\n",
       "  </tbody>\n",
       "</table>\n",
       "</div>"
      ],
      "text/plain": [
       "     Model Description  Test Accuracy #of Zero Coefficients\n",
       "0  LR Sklearn fake run          0.363                 1,000"
      ]
     },
     "execution_count": 138,
     "metadata": {},
     "output_type": "execute_result"
    }
   ],
   "source": [
    "#Display the results table with your experiments\n",
    "import numpy as np\n",
    "import pandas as pd\n",
    "results = pd.DataFrame(columns=[\"Model Description\", \"Test Accuracy\", \"#of Zero Coefficients\"])\n",
    "results.loc[len(results)] = [\"LR Sklearn fake run\", np.round(0.363, 3), \"1,000\"]\n",
    "results"
   ]
  },
  {
   "cell_type": "markdown",
   "metadata": {},
   "source": [
    "# Homegrown implementation of Logistic Regression"
   ]
  },
  {
   "cell_type": "markdown",
   "metadata": {},
   "source": [
    "Below is a homegrown implementation of Logistic Regression. In this class  we added an ability to trace validation metrics."
   ]
  },
  {
   "cell_type": "code",
   "execution_count": 86,
   "metadata": {
    "collapsed": true
   },
   "outputs": [],
   "source": [
    "class LogisticRegressionHomegrown(object):\n",
    "    \n",
    "    def __init__(self):\n",
    "        \"\"\"\n",
    "        Constructor for the homgrown Logistic Regression\n",
    "        \n",
    "        Args:\n",
    "            None\n",
    "        \n",
    "        Return:\n",
    "            None\n",
    "        \"\"\"\n",
    "        self.coef_ = None       # weight vector\n",
    "        self.intercept_ = None  # bias term\n",
    "        self._theta = None      # augmented weight vector, i.e., bias + weights\n",
    "                                # this allows to treat all decision variables homogeneously\n",
    "        self.history = {\"cost\": [], \n",
    "                        \"acc\": [], \n",
    "                        \"val_cost\":[], \n",
    "                        \"val_acc\": []}\n",
    "        \n",
    "    def _grad(self, X, y):\n",
    "        \"\"\"\n",
    "        Calculates the gradient of the Logistic Regression \n",
    "        objective function\n",
    "\n",
    "        Args:\n",
    "            X(ndarray):    train objects\n",
    "            y(ndarray):    answers for train objects\n",
    "            \n",
    "        Return:\n",
    "            grad(ndarray): gradient\n",
    "        \"\"\"\n",
    "        #print('grad inside parent****')\n",
    "        # number of training examples\n",
    "        n = X.shape[0]\n",
    "        \n",
    "        # get scores for each class and example\n",
    "        # 2D matrix\n",
    "        scores = self._predict_raw(X)\n",
    "        #################3333333scores -= np.max(scores, axis=1, keepdims=True)\n",
    "        # transform scores to probabilities\n",
    "        # softmax\n",
    "        exp_scores = np.exp(scores)\n",
    "        probs = exp_scores / np.sum(exp_scores, axis=1, keepdims=True)\n",
    "        \n",
    "        # error\n",
    "        probs[range(n),y] -= 1\n",
    "        \n",
    "        # gradient\n",
    "        gradient = np.dot(X.T, probs) / n\n",
    "        \n",
    "        return gradient\n",
    "    \n",
    "    def _gd(self, X, y, max_iter, alpha, X_val, y_val):\n",
    "        \"\"\"\n",
    "        Runs Full GD and logs error, weigths, gradient at every step\n",
    "\n",
    "        Args:\n",
    "            X(ndarray):      train objects\n",
    "            y(ndarray):      answers for train objects\n",
    "            max_iter(int):   number of weight updates\n",
    "            alpha(floar):    step size in direction of gradient\n",
    "            \n",
    "        Return:\n",
    "            None\n",
    "        \"\"\"\n",
    "        for i in range(max_iter):\n",
    "            #print('iteration: ', i)\n",
    "            metrics = self.score(X, y)\n",
    "            self.history[\"cost\"].append(metrics[\"cost\"])\n",
    "            self.history[\"acc\"].append(metrics[\"acc\"])\n",
    "            \n",
    "            if X_val is not None:\n",
    "                metrics_val = self.score(X_val, y_val)\n",
    "                self.history[\"val_cost\"].append(metrics_val[\"cost\"])\n",
    "                self.history[\"val_acc\"].append(metrics_val[\"acc\"])\n",
    "\n",
    "            # calculate gradient\n",
    "            grad = self._grad(X, y)\n",
    "            \n",
    "            # do gradient step\n",
    "            self._theta -= alpha * grad\n",
    "    \n",
    "    def fit(self, X, y, max_iter=1000, alpha=0.05, val_data=None):\n",
    "        \"\"\"\n",
    "        Public API to fit Logistic regression model\n",
    "        \n",
    "        Args:\n",
    "            X(ndarray):      train objects\n",
    "            y(ndarray):      answers for train objects\n",
    "            max_iter(int):   number of weight updates\n",
    "            alpha(floar):    step size in direction of gradient\n",
    "            \n",
    "        Return:\n",
    "            None\n",
    "        \"\"\"\n",
    "        # Augment the data with the bias term.\n",
    "        # So we can treat the the input variables and the bias term homogeneously \n",
    "        # from a vectorization perspective\n",
    "        X = np.c_[np.ones(X.shape[0]), X]\n",
    "        if val_data is not None:\n",
    "            X_val, y_val = val_data\n",
    "            X_val = np.c_[np.ones(X_val.shape[0]), X_val]\n",
    "        else:\n",
    "            X_val = None\n",
    "            y_val = None\n",
    "        # initialize if the first step\n",
    "        if self._theta is None:\n",
    "            self._theta = np.random.rand(X.shape[1], len(np.unique(y)))\n",
    "        \n",
    "        # do full gradient descent\n",
    "        self._gd(X, y, max_iter, alpha, X_val, y_val)\n",
    "        \n",
    "        # get final weigths and bias\n",
    "        self.intercept_ = self._theta[0]\n",
    "        self.coef_ = self._theta[1:]\n",
    "        \n",
    "    def score(self, X, y):\n",
    "        \"\"\"\n",
    "        Computes logloss and accuracy for (X, y)\n",
    "        \n",
    "        Args:\n",
    "            X(ndarray):      objects\n",
    "            y(ndarray):      answers for objects\n",
    "            \n",
    "        Return:\n",
    "            metrics(dict):   python dictionary which\n",
    "                             contains two fields: for accuracy \n",
    "                             and for objective function\n",
    "        \"\"\"\n",
    "        #print('score inside parent***************')\n",
    "        # number of training samples\n",
    "        n = X.shape[0]\n",
    "        \n",
    "        # get scores\n",
    "        scores = self._predict_raw(X)\n",
    "        #print('scores shape BF', scores.shape)\n",
    "        ##############scores -= np.max(scores, axis=1, keepdims=True)\n",
    "        #print('scores ', scores[2:,])\n",
    "        # trasnform scores to probabilities\n",
    "        exp_scores = np.exp(scores)\n",
    "        probs = exp_scores / np.sum(exp_scores, keepdims=True)\n",
    "        \n",
    "        # logloss per each example\n",
    "        corect_logprobs = -np.log(probs[range(n),y])\n",
    "        \n",
    "        # total mean logloss\n",
    "        data_loss = np.sum(corect_logprobs) / n\n",
    "        #print('corect_logprobs ', corect_logprobs)\n",
    "        #print('data_loss ', data_loss)\n",
    "        \n",
    "        # predictions\n",
    "        pred = np.argmax(scores, axis=1)\n",
    "        # accuracy\n",
    "        acc = accuracy_score(y, pred)\n",
    "        \n",
    "        # final metrics\n",
    "        metrics = {\"acc\": acc, \"cost\": data_loss}\n",
    "        \n",
    "        return metrics\n",
    "        \n",
    "    def _predict_raw(self, X):\n",
    "        \"\"\"\n",
    "        Computes scores for each class and each object in X\n",
    "        \n",
    "        Args:\n",
    "            X(ndarray):      objects\n",
    "        \n",
    "        Return:\n",
    "            scores(ndarray): scores for each class and object\n",
    "        \"\"\"\n",
    "        #print('input X ', X[:,5])\n",
    "        #print('theta ', self._theta)\n",
    "        #print('coef ', self.coef_)\n",
    "        #print('intercept ', self.intercept_)\n",
    "        # check whether X has appended bias feature or not\n",
    "        if X.shape[1] == len(self._theta):\n",
    "            scores = np.dot(X, self._theta)\n",
    "        else:\n",
    "            scores = np.dot(X, self.coef_) + self.intercept_\n",
    "        #print('scores in predict raw ', scores)\n",
    "        return scores\n",
    "    \n",
    "    def predict(self, X):\n",
    "        \"\"\"\n",
    "        Predicts class for each object in X\n",
    "        \n",
    "        Args:\n",
    "            X(ndarray):      objects\n",
    "        \n",
    "        Return:\n",
    "            pred(ndarray):   class for each object\n",
    "        \"\"\"\n",
    "        # get scores for each class\n",
    "        scores = self._predict_raw(X)\n",
    "        # choose class with maximum score\n",
    "        pred = np.argmax(scores, axis=1)\n",
    "        return pred"
   ]
  },
  {
   "cell_type": "markdown",
   "metadata": {},
   "source": [
    "Scale data before using this class. It is crucial."
   ]
  },
  {
   "cell_type": "code",
   "execution_count": 87,
   "metadata": {
    "collapsed": true
   },
   "outputs": [],
   "source": [
    "if np.max(X_train) > 4.:\n",
    "    X_train = X_train.astype(np.float32) / 255.\n",
    "if np.max(X_test) > 4.:\n",
    "    X_test = X_test.astype(np.float32) / 255."
   ]
  },
  {
   "cell_type": "code",
   "execution_count": 88,
   "metadata": {
    "collapsed": true
   },
   "outputs": [],
   "source": [
    "# Importing MinMaxScaler and initializing it\n",
    "from sklearn.preprocessing import MinMaxScaler\n",
    "min_max=MinMaxScaler()\n",
    "# Scaling down both train and test data set\n",
    "X_train_minmax=min_max.fit_transform(X_train)\n",
    "X_test_minmax=min_max.fit_transform(X_test)"
   ]
  },
  {
   "cell_type": "markdown",
   "metadata": {},
   "source": [
    "Defining a model"
   ]
  },
  {
   "cell_type": "code",
   "execution_count": 89,
   "metadata": {
    "collapsed": true
   },
   "outputs": [],
   "source": [
    "model_lr_homegrown = LogisticRegressionHomegrown()"
   ]
  },
  {
   "cell_type": "markdown",
   "metadata": {},
   "source": [
    "Fitting example"
   ]
  },
  {
   "cell_type": "code",
   "execution_count": 90,
   "metadata": {},
   "outputs": [
    {
     "name": "stderr",
     "output_type": "stream",
     "text": [
      "C:\\Users\\Devi\\Anaconda3\\lib\\site-packages\\ipykernel_launcher.py:142: RuntimeWarning: overflow encountered in exp\n",
      "C:\\Users\\Devi\\Anaconda3\\lib\\site-packages\\ipykernel_launcher.py:143: RuntimeWarning: invalid value encountered in true_divide\n",
      "C:\\Users\\Devi\\Anaconda3\\lib\\site-packages\\ipykernel_launcher.py:146: RuntimeWarning: divide by zero encountered in log\n",
      "C:\\Users\\Devi\\Anaconda3\\lib\\site-packages\\ipykernel_launcher.py:44: RuntimeWarning: overflow encountered in exp\n",
      "C:\\Users\\Devi\\Anaconda3\\lib\\site-packages\\ipykernel_launcher.py:45: RuntimeWarning: invalid value encountered in true_divide\n"
     ]
    }
   ],
   "source": [
    "#model_lr_homegrown.fit(X_train, y_train, max_iter=10, alpha=0.05)\n",
    "model_lr_homegrown.fit(X_train, y_train, max_iter=10, alpha=0.05)"
   ]
  },
  {
   "cell_type": "markdown",
   "metadata": {},
   "source": [
    "And we come up with all the $\\text{nan's}$ for objective function"
   ]
  },
  {
   "cell_type": "code",
   "execution_count": 91,
   "metadata": {
    "scrolled": true
   },
   "outputs": [
    {
     "data": {
      "text/plain": [
       "[nan, nan, nan, nan, nan, nan, nan, nan, nan, nan]"
      ]
     },
     "execution_count": 91,
     "metadata": {},
     "output_type": "execute_result"
    }
   ],
   "source": [
    "model_lr_homegrown.history[\"cost\"]"
   ]
  },
  {
   "cell_type": "markdown",
   "metadata": {},
   "source": [
    "And accuracy also does not change"
   ]
  },
  {
   "cell_type": "code",
   "execution_count": 92,
   "metadata": {},
   "outputs": [
    {
     "data": {
      "text/plain": [
       "[0.0998,\n",
       " 0.10000000000000001,\n",
       " 0.10000000000000001,\n",
       " 0.10000000000000001,\n",
       " 0.10000000000000001,\n",
       " 0.10000000000000001,\n",
       " 0.10000000000000001,\n",
       " 0.10000000000000001,\n",
       " 0.10000000000000001,\n",
       " 0.10000000000000001]"
      ]
     },
     "execution_count": 92,
     "metadata": {},
     "output_type": "execute_result"
    }
   ],
   "source": [
    "model_lr_homegrown.history[\"acc\"]"
   ]
  },
  {
   "cell_type": "code",
   "execution_count": 93,
   "metadata": {
    "collapsed": true
   },
   "outputs": [],
   "source": [
    "class FixedLogisticRegressionHomegrown(LogisticRegressionHomegrown):\n",
    "    \n",
    "    def __init__(self):\n",
    "        # call the constructor of the parent class\n",
    "        super(FixedLogisticRegressionHomegrown, self).__init__()\n",
    "        \n",
    "    #==================================================#\n",
    "    #               Place your code here               #\n",
    "    #     Redefine a method which causes the error     #\n",
    "    #               Hint: only one method              #\n",
    "    def _grad(self, X, y):\n",
    "        \"\"\"\n",
    "        Calculates the gradient of the Logistic Regression \n",
    "        objective function\n",
    "\n",
    "        Args:\n",
    "            X(ndarray):    train objects\n",
    "            y(ndarray):    answers for train objects\n",
    "            \n",
    "        Return:\n",
    "            grad(ndarray): gradient\n",
    "        \"\"\"\n",
    "        #print('**grad inside child')\n",
    "        # number of training examples\n",
    "        n = X.shape[0]\n",
    "        \n",
    "        # get scores for each class and example\n",
    "        # 2D matrix\n",
    "        scores = self._predict_raw(X)\n",
    "        scores -= np.max(scores, axis=1, keepdims=True)\n",
    "        # transform scores to probabilities\n",
    "        # softmax\n",
    "        exp_scores = np.exp(scores)\n",
    "        probs = exp_scores / np.sum(exp_scores, axis=1, keepdims=True)\n",
    "        \n",
    "        # error\n",
    "        probs[range(n),y] -= 1\n",
    "        \n",
    "        # gradient\n",
    "        gradient = np.dot(X.T, probs) / n\n",
    "        \n",
    "        return gradient\n",
    "    #==================================================#\n",
    "    \n",
    "    def score(self, X, y):\n",
    "        \"\"\"\n",
    "        Computes logloss and accuracy for (X, y)\n",
    "        \n",
    "        Args:\n",
    "            X(ndarray):      objects\n",
    "            y(ndarray):      answers for objects\n",
    "            \n",
    "        Return:\n",
    "            metrics(dict):   python dictionary which\n",
    "                             contains two fields: for accuracy \n",
    "                             and for objective function\n",
    "        \"\"\"\n",
    "        #print('score inside child***************')\n",
    "        # number of training samples\n",
    "        n = X.shape[0]\n",
    "        \n",
    "        # get scores\n",
    "        scores = self._predict_raw(X)\n",
    "        #print('scores shape BF', scores.shape)\n",
    "        scores -= np.max(scores, axis=1, keepdims=True)\n",
    "        #print('scores ', scores[2:,])\n",
    "        # trasnform scores to probabilities\n",
    "        exp_scores = np.exp(scores)\n",
    "        probs = exp_scores / np.sum(exp_scores, keepdims=True)\n",
    "        \n",
    "        # logloss per each example\n",
    "        corect_logprobs = -np.log(probs[range(n),y])\n",
    "        \n",
    "        # total mean logloss\n",
    "        data_loss = np.sum(corect_logprobs) / n\n",
    "        #print('corect_logprobs ', corect_logprobs)\n",
    "        #print('data_loss ', data_loss)\n",
    "        \n",
    "        # predictions\n",
    "        pred = np.argmax(scores, axis=1)\n",
    "        # accuracy\n",
    "        acc = accuracy_score(y, pred)\n",
    "        \n",
    "        # final metrics\n",
    "        metrics = {\"acc\": acc, \"cost\": data_loss}\n",
    "        \n",
    "        return metrics"
   ]
  },
  {
   "cell_type": "markdown",
   "metadata": {},
   "source": [
    "Defining a model"
   ]
  },
  {
   "cell_type": "code",
   "execution_count": 94,
   "metadata": {
    "collapsed": true
   },
   "outputs": [],
   "source": [
    "model_lr_homegrown_fixed = FixedLogisticRegressionHomegrown()"
   ]
  },
  {
   "cell_type": "markdown",
   "metadata": {},
   "source": [
    "Fitting example"
   ]
  },
  {
   "cell_type": "code",
   "execution_count": 95,
   "metadata": {
    "collapsed": true
   },
   "outputs": [],
   "source": [
    "model_lr_homegrown_fixed.fit(X_train, y_train, max_iter=2000, alpha=0.05, val_data=(X_test, y_test))"
   ]
  },
  {
   "cell_type": "code",
   "execution_count": 96,
   "metadata": {},
   "outputs": [
    {
     "data": {
      "image/png": "[encoded data removed]",
      "text/plain": [
       "<matplotlib.figure.Figure at 0x1ee5b54f470>"
      ]
     },
     "metadata": {},
     "output_type": "display_data"
    }
   ],
   "source": [
    "plt.figure(figsize=(20, 8))\n",
    "plt.suptitle(\"Homegrown Logistic Regression\")\n",
    "plt.subplot(121)\n",
    "plt.plot(model_lr_homegrown_fixed.history[\"cost\"], label=\"Train\")\n",
    "plt.plot(model_lr_homegrown_fixed.history[\"val_cost\"], label=\"Test\")\n",
    "plt.legend(loc=\"upper left\")\n",
    "plt.xlabel(\"Iteration\")\n",
    "plt.ylabel(\"Loss\")\n",
    "plt.subplot(122)\n",
    "plt.plot(model_lr_homegrown_fixed.history[\"acc\"], label=\"Train\")\n",
    "plt.plot(model_lr_homegrown_fixed.history[\"val_acc\"], label=\"Test\")\n",
    "plt.legend(loc=\"upper left\")\n",
    "plt.xlabel(\"Iteration\")\n",
    "plt.ylabel(\"Accuracy\");"
   ]
  },
  {
   "cell_type": "markdown",
   "metadata": {},
   "source": [
    "Prediction"
   ]
  },
  {
   "cell_type": "code",
   "execution_count": 97,
   "metadata": {
    "collapsed": true
   },
   "outputs": [],
   "source": [
    "y_pred_test = model_lr_homegrown_fixed.predict(X_test)"
   ]
  },
  {
   "cell_type": "markdown",
   "metadata": {},
   "source": [
    "Accuracy"
   ]
  },
  {
   "cell_type": "code",
   "execution_count": 98,
   "metadata": {},
   "outputs": [
    {
     "data": {
      "text/plain": [
       "0.26400000000000001"
      ]
     },
     "execution_count": 98,
     "metadata": {},
     "output_type": "execute_result"
    }
   ],
   "source": [
    "acc = accuracy_score(y_test, y_pred_test)\n",
    "acc"
   ]
  },
  {
   "cell_type": "markdown",
   "metadata": {},
   "source": [
    "Keeping table of results up-to-date"
   ]
  },
  {
   "cell_type": "code",
   "execution_count": 104,
   "metadata": {},
   "outputs": [
    {
     "data": {
      "text/html": [
       "<div>\n",
       "<style>\n",
       "    .dataframe thead tr:only-child th {\n",
       "        text-align: right;\n",
       "    }\n",
       "\n",
       "    .dataframe thead th {\n",
       "        text-align: left;\n",
       "    }\n",
       "\n",
       "    .dataframe tbody tr th {\n",
       "        vertical-align: top;\n",
       "    }\n",
       "</style>\n",
       "<table border=\"1\" class=\"dataframe\">\n",
       "  <thead>\n",
       "    <tr style=\"text-align: right;\">\n",
       "      <th></th>\n",
       "      <th>Model Description</th>\n",
       "      <th>Test Accuracy</th>\n",
       "    </tr>\n",
       "  </thead>\n",
       "  <tbody>\n",
       "    <tr>\n",
       "      <th>0</th>\n",
       "      <td>LR Homegrown Fix 1</td>\n",
       "      <td>0.264</td>\n",
       "    </tr>\n",
       "  </tbody>\n",
       "</table>\n",
       "</div>"
      ],
      "text/plain": [
       "    Model Description  Test Accuracy\n",
       "0  LR Homegrown Fix 1          0.264"
      ]
     },
     "execution_count": 104,
     "metadata": {},
     "output_type": "execute_result"
    }
   ],
   "source": [
    "results = pd.DataFrame(columns=[\"Model Description\", \"Test Accuracy\"])\n",
    "results.loc[len(results)] = [\"LR Homegrown Fix 1\", np.round(acc, 3)] #please update as needed\n",
    "results"
   ]
  },
  {
   "cell_type": "markdown",
   "metadata": {},
   "source": [
    "## Let's improve by tuning training algo.\n",
    "Look at the plots obtained at the end of task 1 (it fluctuates a lot). This behaviour is very common to stochastic gradient descent. But here we are using full GD."
   ]
  },
  {
   "cell_type": "code",
   "execution_count": 105,
   "metadata": {},
   "outputs": [
    {
     "name": "stdout",
     "output_type": "stream",
     "text": [
      "accuracy:  0.313\n"
     ]
    }
   ],
   "source": [
    "#==================================================#\n",
    "#               Place your code here               #\n",
    "model_lr_homegrown_fixed.fit(X_train, y_train, max_iter=2000, alpha=0.0001, val_data=(X_test, y_test))\n",
    "y_pred_test = model_lr_homegrown_fixed.predict(X_test)\n",
    "acc = accuracy_score(y_test, y_pred_test)\n",
    "print('accuracy: ', acc)\n",
    "\n",
    "#==================================================#"
   ]
  },
  {
   "cell_type": "code",
   "execution_count": 106,
   "metadata": {},
   "outputs": [
    {
     "data": {
      "text/html": [
       "<div>\n",
       "<style>\n",
       "    .dataframe thead tr:only-child th {\n",
       "        text-align: right;\n",
       "    }\n",
       "\n",
       "    .dataframe thead th {\n",
       "        text-align: left;\n",
       "    }\n",
       "\n",
       "    .dataframe tbody tr th {\n",
       "        vertical-align: top;\n",
       "    }\n",
       "</style>\n",
       "<table border=\"1\" class=\"dataframe\">\n",
       "  <thead>\n",
       "    <tr style=\"text-align: right;\">\n",
       "      <th></th>\n",
       "      <th>Model Description</th>\n",
       "      <th>Test Accuracy</th>\n",
       "    </tr>\n",
       "  </thead>\n",
       "  <tbody>\n",
       "    <tr>\n",
       "      <th>0</th>\n",
       "      <td>LR Homegrown Fix 1</td>\n",
       "      <td>0.264</td>\n",
       "    </tr>\n",
       "    <tr>\n",
       "      <th>1</th>\n",
       "      <td>LR Homegrown Fix 2</td>\n",
       "      <td>0.313</td>\n",
       "    </tr>\n",
       "  </tbody>\n",
       "</table>\n",
       "</div>"
      ],
      "text/plain": [
       "    Model Description  Test Accuracy\n",
       "0  LR Homegrown Fix 1          0.264\n",
       "1  LR Homegrown Fix 2          0.313"
      ]
     },
     "execution_count": 106,
     "metadata": {},
     "output_type": "execute_result"
    }
   ],
   "source": [
    "results.loc[len(results)] = [\"LR Homegrown Fix 2\", np.round(acc, 3)] #please update as needed\n",
    "results"
   ]
  }
 ],
 "metadata": {
  "anaconda-cloud": {},
  "kernelspec": {
   "display_name": "Python 3",
   "language": "python",
   "name": "python3"
  },
  "language_info": {
   "codemirror_mode": {
    "name": "ipython",
    "version": 3
   },
   "file_extension": ".py",
   "mimetype": "text/x-python",
   "name": "python",
   "nbconvert_exporter": "python",
   "pygments_lexer": "ipython3",
   "version": "3.6.5"
  },
  "toc": {
   "nav_menu": {
    "height": "48px",
    "width": "252px"
   },
   "number_sections": true,
   "sideBar": true,
   "skip_h1_title": false,
   "title_cell": "Table of Contents",
   "title_sidebar": "Contents",
   "toc_cell": false,
   "toc_position": {
    "height": "760px",
    "left": "0px",
    "right": "1388px",
    "top": "107px",
    "width": "232px"
   },
   "toc_section_display": "block",
   "toc_window_display": true
  }
 },
 "nbformat": 4,
 "nbformat_minor": 1
}
